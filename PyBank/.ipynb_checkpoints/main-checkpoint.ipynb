{
 "cells": [
  {
   "cell_type": "code",
   "execution_count": 13,
   "id": "0952c4c5",
   "metadata": {},
   "outputs": [],
   "source": [
    "# Import Dependencies\n",
    "import pandas as pd\n",
    "import numpy as np"
   ]
  },
  {
   "cell_type": "code",
   "execution_count": 14,
   "id": "a8f0fd77",
   "metadata": {},
   "outputs": [
    {
     "data": {
      "text/html": [
       "<div>\n",
       "<style scoped>\n",
       "    .dataframe tbody tr th:only-of-type {\n",
       "        vertical-align: middle;\n",
       "    }\n",
       "\n",
       "    .dataframe tbody tr th {\n",
       "        vertical-align: top;\n",
       "    }\n",
       "\n",
       "    .dataframe thead th {\n",
       "        text-align: right;\n",
       "    }\n",
       "</style>\n",
       "<table border=\"1\" class=\"dataframe\">\n",
       "  <thead>\n",
       "    <tr style=\"text-align: right;\">\n",
       "      <th></th>\n",
       "      <th>Date</th>\n",
       "      <th>Profit/Losses</th>\n",
       "    </tr>\n",
       "  </thead>\n",
       "  <tbody>\n",
       "    <tr>\n",
       "      <th>0</th>\n",
       "      <td>Jan-10</td>\n",
       "      <td>1088983</td>\n",
       "    </tr>\n",
       "    <tr>\n",
       "      <th>1</th>\n",
       "      <td>Feb-10</td>\n",
       "      <td>-354534</td>\n",
       "    </tr>\n",
       "    <tr>\n",
       "      <th>2</th>\n",
       "      <td>Mar-10</td>\n",
       "      <td>276622</td>\n",
       "    </tr>\n",
       "    <tr>\n",
       "      <th>3</th>\n",
       "      <td>Apr-10</td>\n",
       "      <td>-728133</td>\n",
       "    </tr>\n",
       "    <tr>\n",
       "      <th>4</th>\n",
       "      <td>May-10</td>\n",
       "      <td>852993</td>\n",
       "    </tr>\n",
       "    <tr>\n",
       "      <th>...</th>\n",
       "      <td>...</td>\n",
       "      <td>...</td>\n",
       "    </tr>\n",
       "    <tr>\n",
       "      <th>81</th>\n",
       "      <td>Oct-16</td>\n",
       "      <td>-729004</td>\n",
       "    </tr>\n",
       "    <tr>\n",
       "      <th>82</th>\n",
       "      <td>Nov-16</td>\n",
       "      <td>-112209</td>\n",
       "    </tr>\n",
       "    <tr>\n",
       "      <th>83</th>\n",
       "      <td>Dec-16</td>\n",
       "      <td>516313</td>\n",
       "    </tr>\n",
       "    <tr>\n",
       "      <th>84</th>\n",
       "      <td>Jan-17</td>\n",
       "      <td>607208</td>\n",
       "    </tr>\n",
       "    <tr>\n",
       "      <th>85</th>\n",
       "      <td>Feb-17</td>\n",
       "      <td>382539</td>\n",
       "    </tr>\n",
       "  </tbody>\n",
       "</table>\n",
       "<p>86 rows × 2 columns</p>\n",
       "</div>"
      ],
      "text/plain": [
       "      Date  Profit/Losses\n",
       "0   Jan-10        1088983\n",
       "1   Feb-10        -354534\n",
       "2   Mar-10         276622\n",
       "3   Apr-10        -728133\n",
       "4   May-10         852993\n",
       "..     ...            ...\n",
       "81  Oct-16        -729004\n",
       "82  Nov-16        -112209\n",
       "83  Dec-16         516313\n",
       "84  Jan-17         607208\n",
       "85  Feb-17         382539\n",
       "\n",
       "[86 rows x 2 columns]"
      ]
     },
     "execution_count": 14,
     "metadata": {},
     "output_type": "execute_result"
    }
   ],
   "source": [
    "# Create reference to CSV file\n",
    "csv_budget = \"Resources/budget_data.csv\"\n",
    "\n",
    "# Import the CSV into a pandas DataFrame\n",
    "budget_df = pd.read_csv(csv_budget)\n",
    "budget_df"
   ]
  },
  {
   "cell_type": "code",
   "execution_count": 15,
   "id": "d715bde0",
   "metadata": {},
   "outputs": [
    {
     "data": {
      "text/plain": [
       "86"
      ]
     },
     "execution_count": 15,
     "metadata": {},
     "output_type": "execute_result"
    }
   ],
   "source": [
    "#The total months in the period\n",
    "periodMonths = len(budget_df)\n",
    "periodMonths"
   ]
  },
  {
   "cell_type": "code",
   "execution_count": 16,
   "id": "5fad4423",
   "metadata": {},
   "outputs": [
    {
     "data": {
      "text/html": [
       "<div>\n",
       "<style scoped>\n",
       "    .dataframe tbody tr th:only-of-type {\n",
       "        vertical-align: middle;\n",
       "    }\n",
       "\n",
       "    .dataframe tbody tr th {\n",
       "        vertical-align: top;\n",
       "    }\n",
       "\n",
       "    .dataframe thead th {\n",
       "        text-align: right;\n",
       "    }\n",
       "</style>\n",
       "<table border=\"1\" class=\"dataframe\">\n",
       "  <thead>\n",
       "    <tr style=\"text-align: right;\">\n",
       "      <th></th>\n",
       "      <th>Date</th>\n",
       "      <th>Profit/Losses</th>\n",
       "      <th>Changes</th>\n",
       "    </tr>\n",
       "  </thead>\n",
       "  <tbody>\n",
       "    <tr>\n",
       "      <th>0</th>\n",
       "      <td>Jan-10</td>\n",
       "      <td>1088983</td>\n",
       "      <td>NaN</td>\n",
       "    </tr>\n",
       "    <tr>\n",
       "      <th>1</th>\n",
       "      <td>Feb-10</td>\n",
       "      <td>-354534</td>\n",
       "      <td>-1443517.0</td>\n",
       "    </tr>\n",
       "    <tr>\n",
       "      <th>2</th>\n",
       "      <td>Mar-10</td>\n",
       "      <td>276622</td>\n",
       "      <td>631156.0</td>\n",
       "    </tr>\n",
       "    <tr>\n",
       "      <th>3</th>\n",
       "      <td>Apr-10</td>\n",
       "      <td>-728133</td>\n",
       "      <td>-1004755.0</td>\n",
       "    </tr>\n",
       "    <tr>\n",
       "      <th>4</th>\n",
       "      <td>May-10</td>\n",
       "      <td>852993</td>\n",
       "      <td>1581126.0</td>\n",
       "    </tr>\n",
       "    <tr>\n",
       "      <th>...</th>\n",
       "      <td>...</td>\n",
       "      <td>...</td>\n",
       "      <td>...</td>\n",
       "    </tr>\n",
       "    <tr>\n",
       "      <th>81</th>\n",
       "      <td>Oct-16</td>\n",
       "      <td>-729004</td>\n",
       "      <td>-1627245.0</td>\n",
       "    </tr>\n",
       "    <tr>\n",
       "      <th>82</th>\n",
       "      <td>Nov-16</td>\n",
       "      <td>-112209</td>\n",
       "      <td>616795.0</td>\n",
       "    </tr>\n",
       "    <tr>\n",
       "      <th>83</th>\n",
       "      <td>Dec-16</td>\n",
       "      <td>516313</td>\n",
       "      <td>628522.0</td>\n",
       "    </tr>\n",
       "    <tr>\n",
       "      <th>84</th>\n",
       "      <td>Jan-17</td>\n",
       "      <td>607208</td>\n",
       "      <td>90895.0</td>\n",
       "    </tr>\n",
       "    <tr>\n",
       "      <th>85</th>\n",
       "      <td>Feb-17</td>\n",
       "      <td>382539</td>\n",
       "      <td>-224669.0</td>\n",
       "    </tr>\n",
       "  </tbody>\n",
       "</table>\n",
       "<p>86 rows × 3 columns</p>\n",
       "</div>"
      ],
      "text/plain": [
       "      Date  Profit/Losses    Changes\n",
       "0   Jan-10        1088983        NaN\n",
       "1   Feb-10        -354534 -1443517.0\n",
       "2   Mar-10         276622   631156.0\n",
       "3   Apr-10        -728133 -1004755.0\n",
       "4   May-10         852993  1581126.0\n",
       "..     ...            ...        ...\n",
       "81  Oct-16        -729004 -1627245.0\n",
       "82  Nov-16        -112209   616795.0\n",
       "83  Dec-16         516313   628522.0\n",
       "84  Jan-17         607208    90895.0\n",
       "85  Feb-17         382539  -224669.0\n",
       "\n",
       "[86 rows x 3 columns]"
      ]
     },
     "execution_count": 16,
     "metadata": {},
     "output_type": "execute_result"
    }
   ],
   "source": [
    "#The df that contains all the changes between each month\n",
    "budget_df[\"Changes\"] =  budget_df[\"Profit/Losses\"].diff()\n",
    "budget_df"
   ]
  },
  {
   "cell_type": "code",
   "execution_count": 17,
   "id": "d0aee83f",
   "metadata": {},
   "outputs": [
    {
     "data": {
      "text/plain": [
       "22564198"
      ]
     },
     "execution_count": 17,
     "metadata": {},
     "output_type": "execute_result"
    }
   ],
   "source": [
    "#The total profits/losses for the period\n",
    "periodTotal = budget_df[\"Profit/Losses\"].sum()\n",
    "periodTotal"
   ]
  },
  {
   "cell_type": "code",
   "execution_count": 18,
   "id": "fe03ae95",
   "metadata": {},
   "outputs": [
    {
     "data": {
      "text/plain": [
       "-8311.11"
      ]
     },
     "execution_count": 18,
     "metadata": {},
     "output_type": "execute_result"
    }
   ],
   "source": [
    "#The average change each month\n",
    "periodAvg = budget_df[\"Changes\"].mean()\n",
    "periodAvg = round(periodAvg,2)\n",
    "periodAvg"
   ]
  },
  {
   "cell_type": "code",
   "execution_count": 30,
   "id": "b6431f23",
   "metadata": {},
   "outputs": [],
   "source": [
    "#The max change per month\n",
    "periodMax = budget_df.max()\n",
    "periodMaxDate = periodMax[\"Date\"]\n",
    "periodMaxChanges = periodMax[\"Changes\"]"
   ]
  },
  {
   "cell_type": "code",
   "execution_count": 31,
   "id": "5b371361",
   "metadata": {},
   "outputs": [
    {
     "data": {
      "text/plain": [
       "'Sep-16'"
      ]
     },
     "execution_count": 31,
     "metadata": {},
     "output_type": "execute_result"
    }
   ],
   "source": [
    "#period Max date variable value check\n",
    "periodMaxDate"
   ]
  },
  {
   "cell_type": "code",
   "execution_count": 32,
   "id": "cc66cf1e",
   "metadata": {},
   "outputs": [
    {
     "data": {
      "text/plain": [
       "1862002.0"
      ]
     },
     "execution_count": 32,
     "metadata": {},
     "output_type": "execute_result"
    }
   ],
   "source": [
    "#period Max Changes variable value check\n",
    "periodMaxChanges"
   ]
  },
  {
   "cell_type": "code",
   "execution_count": 23,
   "id": "16ae3096",
   "metadata": {},
   "outputs": [
    {
     "name": "stdout",
     "output_type": "stream",
     "text": [
      "Apr-10\n",
      "-1825558.0\n"
     ]
    }
   ],
   "source": [
    "#The Min change per month\n",
    "periodMin = budget_df.min()\n",
    "periodMinDate = periodMin[\"Date\"]\n",
    "periodMinChanges = periodMin[\"Changes\"]"
   ]
  },
  {
   "cell_type": "code",
   "execution_count": 24,
   "id": "20c1c426",
   "metadata": {},
   "outputs": [
    {
     "data": {
      "text/plain": [
       "'Apr-10'"
      ]
     },
     "execution_count": 24,
     "metadata": {},
     "output_type": "execute_result"
    }
   ],
   "source": [
    "#period Min date variable value check\n",
    "periodMinDate"
   ]
  },
  {
   "cell_type": "code",
   "execution_count": 25,
   "id": "966675e9",
   "metadata": {},
   "outputs": [
    {
     "data": {
      "text/plain": [
       "-1825558.0"
      ]
     },
     "execution_count": 25,
     "metadata": {},
     "output_type": "execute_result"
    }
   ],
   "source": [
    "#period Min Changes variable value check\n",
    "periodMinChanges"
   ]
  },
  {
   "cell_type": "code",
   "execution_count": 34,
   "id": "3edc75ed",
   "metadata": {},
   "outputs": [
    {
     "name": "stdout",
     "output_type": "stream",
     "text": [
      "Financial Analysis\n",
      "----------------------------\n",
      "Total Months: 86\n",
      "Total : $22564198\n",
      "Average Change: $-8311.11\n",
      "Greatest Increase in Profit: Sep-16; Amount: 1862002.0\n",
      "Greatest Decrease in Profit: Apr-10; Amount: -1825558.0\n"
     ]
    }
   ],
   "source": [
    "#The print out card\n",
    "print(\"Financial Analysis\"),\n",
    "print(\"----------------------------\"),\n",
    "print(\"Total Months: \" + str(periodMonths)),\n",
    "print(\"Total : $\" + str(periodTotal)),\n",
    "print(\"Average Change: $\" + str(periodAvg)),\n",
    "print(\"Greatest Increase in Profit: \" + str(periodMaxDate) + \"; Amount: \" + str(periodMaxChanges)),\n",
    "print(\"Greatest Decrease in Profit: \" + str(periodMinDate) + \"; Amount: \" + str(periodMinChanges))"
   ]
  },
  {
   "cell_type": "code",
   "execution_count": null,
   "id": "2951707c",
   "metadata": {},
   "outputs": [],
   "source": []
  }
 ],
 "metadata": {
  "kernelspec": {
   "display_name": "Python 3 (ipykernel)",
   "language": "python",
   "name": "python3"
  },
  "language_info": {
   "codemirror_mode": {
    "name": "ipython",
    "version": 3
   },
   "file_extension": ".py",
   "mimetype": "text/x-python",
   "name": "python",
   "nbconvert_exporter": "python",
   "pygments_lexer": "ipython3",
   "version": "3.9.15"
  }
 },
 "nbformat": 4,
 "nbformat_minor": 5
}
